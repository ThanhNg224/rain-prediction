{
  "nbformat": 4,
  "nbformat_minor": 0,
  "metadata": {
    "colab": {
      "provenance": []
    },
    "kernelspec": {
      "name": "python3",
      "display_name": "Python 3"
    },
    "language_info": {
      "name": "python"
    }
  },
  "cells": [
    {
      "cell_type": "code",
      "source": [
        "import csv\n",
        "import requests\n",
        "import json\n",
        "\n",
        "OPEN_WEATHER_API_URL = 'https://api.openweathermap.org/data/2.5/weather'\n",
        "OPEN_WEATHER_API_KEY = 'dd21a638583cc4d8d17e6e7b24b70348'\n",
        "CITIES_FILE = 'city.list.json'\n",
        "\n",
        "def get_city_weather(city_id: int):\n",
        "    response = requests.get(OPEN_WEATHER_API_URL, params={'id': city_id, 'appid': OPEN_WEATHER_API_KEY})\n",
        "    return response.json()\n",
        "\n",
        "def get_cities_ids():\n",
        "    with open(CITIES_FILE, 'r') as f:\n",
        "        all_cities = json.load(f)\n",
        "        vietnam_cities = [city['id'] for city in all_cities if city['country'] == \"VN\"]\n",
        "        return vietnam_cities\n",
        "\n",
        "vietnam_cities = get_cities_ids()\n",
        "weather_info = []\n",
        "\n",
        "for city_id in vietnam_cities[0:100]:\n",
        "    weather_info_by_city = get_city_weather(city_id)\n",
        "    weather_info.append({\n",
        "        'id': weather_info_by_city['id'],\n",
        "        'name': weather_info_by_city['name'],\n",
        "        'weather': weather_info_by_city['weather'][0]['main'],\n",
        "        'description': weather_info_by_city['weather'][0]['description'],\n",
        "        'temperature': weather_info_by_city['main']['temp'],\n",
        "        'feels_like': weather_info_by_city['main']['feels_like'],\n",
        "        'humidity': weather_info_by_city['main']['humidity'],\n",
        "        'pressure': weather_info_by_city['main']['pressure'],\n",
        "        'country': weather_info_by_city['sys']['country']\n",
        "    })\n",
        "\n",
        "# Writing to CSV file\n",
        "csv_file = 'weather_data.csv'\n",
        "\n",
        "with open(csv_file, 'w', newline='') as file:\n",
        "    writer = csv.DictWriter(file, fieldnames=weather_info[0].keys())\n",
        "    writer.writeheader()\n",
        "    writer.writerows(weather_info)\n",
        "\n",
        "print(\"Weather data saved to\", csv_file)\n"
      ],
      "metadata": {
        "colab": {
          "base_uri": "https://localhost:8080/"
        },
        "id": "sIuq1ubomsJn",
        "outputId": "805392a5-bc92-4af0-d822-c030abd75e7f"
      },
      "execution_count": null,
      "outputs": [
        {
          "output_type": "stream",
          "name": "stdout",
          "text": [
            "Weather data saved to weather_data.csv\n"
          ]
        }
      ]
    },
    {
      "cell_type": "code",
      "source": [
        "from google.colab import files\n",
        "\n",
        "\n",
        "csv_file = 'weather_data.csv'\n",
        "\n",
        "with open(csv_file, 'w', newline='') as file:\n",
        "    writer = csv.DictWriter(file, fieldnames=weather_info[0].keys())\n",
        "    writer.writeheader()\n",
        "    writer.writerows(weather_info)\n",
        "\n",
        "print(\"Weather data saved to\", csv_file)\n",
        "\n",
        "\n",
        "files.download(csv_file)\n"
      ],
      "metadata": {
        "colab": {
          "base_uri": "https://localhost:8080/",
          "height": 34
        },
        "id": "6stKuCwNotdh",
        "outputId": "3dc8fdea-d381-4426-9a0f-56506f055060"
      },
      "execution_count": null,
      "outputs": [
        {
          "output_type": "stream",
          "name": "stdout",
          "text": [
            "Weather data saved to weather_data.csv\n"
          ]
        },
        {
          "output_type": "display_data",
          "data": {
            "text/plain": [
              "<IPython.core.display.Javascript object>"
            ],
            "application/javascript": [
              "\n",
              "    async function download(id, filename, size) {\n",
              "      if (!google.colab.kernel.accessAllowed) {\n",
              "        return;\n",
              "      }\n",
              "      const div = document.createElement('div');\n",
              "      const label = document.createElement('label');\n",
              "      label.textContent = `Downloading \"${filename}\": `;\n",
              "      div.appendChild(label);\n",
              "      const progress = document.createElement('progress');\n",
              "      progress.max = size;\n",
              "      div.appendChild(progress);\n",
              "      document.body.appendChild(div);\n",
              "\n",
              "      const buffers = [];\n",
              "      let downloaded = 0;\n",
              "\n",
              "      const channel = await google.colab.kernel.comms.open(id);\n",
              "      // Send a message to notify the kernel that we're ready.\n",
              "      channel.send({})\n",
              "\n",
              "      for await (const message of channel.messages) {\n",
              "        // Send a message to notify the kernel that we're ready.\n",
              "        channel.send({})\n",
              "        if (message.buffers) {\n",
              "          for (const buffer of message.buffers) {\n",
              "            buffers.push(buffer);\n",
              "            downloaded += buffer.byteLength;\n",
              "            progress.value = downloaded;\n",
              "          }\n",
              "        }\n",
              "      }\n",
              "      const blob = new Blob(buffers, {type: 'application/binary'});\n",
              "      const a = document.createElement('a');\n",
              "      a.href = window.URL.createObjectURL(blob);\n",
              "      a.download = filename;\n",
              "      div.appendChild(a);\n",
              "      a.click();\n",
              "      div.remove();\n",
              "    }\n",
              "  "
            ]
          },
          "metadata": {}
        },
        {
          "output_type": "display_data",
          "data": {
            "text/plain": [
              "<IPython.core.display.Javascript object>"
            ],
            "application/javascript": [
              "download(\"download_6fc9aaa4-5cf6-4b58-8170-32141a6a8d53\", \"weather_data.csv\", 6750)"
            ]
          },
          "metadata": {}
        }
      ]
    }
  ]
}